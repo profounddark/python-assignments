{
 "cells": [
  {
   "cell_type": "markdown",
   "id": "7bce1420-10a9-446c-b1df-0933a49bdffd",
   "metadata": {},
   "source": [
    "## Exercise 2.2\n",
    "### 1. The volume of a sphere with radius r is 4/3<span>&#960;</span>r3. What is the volume of a sphere with radius 5?"
   ]
  },
  {
   "cell_type": "code",
   "execution_count": 2,
   "id": "8ee8fd7c-5dd7-411c-a7bb-cd8d40da34d5",
   "metadata": {},
   "outputs": [
    {
     "name": "stdout",
     "output_type": "stream",
     "text": [
      "523.5987755982989\n"
     ]
    }
   ],
   "source": [
    "pi = 3.1415926535897932\n",
    "r = 5.0\n",
    "answer = 4.0/3.0*pi*r**3\n",
    "print (answer)"
   ]
  },
  {
   "cell_type": "markdown",
   "id": "5309aebc-240e-4379-9685-a7266c73a404",
   "metadata": {},
   "source": [
    "### 2. Suppose the cover price of a book is <span>&#36;</span>24.95, but bookstores get a 40<span>&#37;</span> discount. Shipping costs <span>&#36;</span>3 for the first copy and 75 cents for each additional copy. What is the total wholesale cost for 60 copies?"
   ]
  },
  {
   "cell_type": "markdown",
   "id": "1140c113-e2d7-4587-8202-c90521f4aaff",
   "metadata": {},
   "source": [
    "#### Initializing variables with input values"
   ]
  },
  {
   "cell_type": "code",
   "execution_count": 6,
   "id": "05ef16fe-0e58-4f4b-a5ca-346504019ba6",
   "metadata": {},
   "outputs": [],
   "source": [
    "num_books = 60\n",
    "b_price = 24.95\n",
    "discount = 0.4\n",
    "shipping_1st = 3\n",
    "shipping_rest = 0.75"
   ]
  },
  {
   "cell_type": "markdown",
   "id": "5acdd48a-0976-41dc-b56d-d53ab873eb4a",
   "metadata": {},
   "source": [
    "#### Calculating costs"
   ]
  },
  {
   "cell_type": "code",
   "execution_count": 9,
   "id": "39beead2-9a90-4743-8f7b-c940ec456a07",
   "metadata": {},
   "outputs": [],
   "source": [
    "subtotal_books = b_price * num_books * (1 - discount)\n",
    "shipping_cost = shipping_1st + (num_books - 1) * shipping_rest\n",
    "totoal_cost = subtotal_books + shipping_cost"
   ]
  },
  {
   "cell_type": "markdown",
   "id": "192dbabf-1e73-47e0-a246-0be2c737ab25",
   "metadata": {},
   "source": [
    "#### Displaying results"
   ]
  },
  {
   "cell_type": "code",
   "execution_count": 12,
   "id": "a42df289-bc06-43ed-9fe7-00ee60b096b5",
   "metadata": {},
   "outputs": [
    {
     "name": "stdout",
     "output_type": "stream",
     "text": [
      "Sub total: $898.20\n",
      "Shipping cost: $47.25\n",
      "Total cost: $945.45\n"
     ]
    }
   ],
   "source": [
    "print ('Sub total: ${:,.2f}'.format(subtotal_books))\n",
    "print ('Shipping cost: ${:,.2f}'.format(shipping_cost))\n",
    "print ('Total cost: ${:,.2f}'.format(totoal_cost))"
   ]
  },
  {
   "cell_type": "markdown",
   "id": "e4359885-0bdb-4b12-b370-3230cb272420",
   "metadata": {},
   "source": [
    "### 3. If I leave my house at 6:52 am and run 1 mile at an easy pace (8:15 per mile), then 3 miles at tempo (7:12 per mile) and 1 mile at easy pace again, what time do I get home for breakfast?"
   ]
  },
  {
   "cell_type": "markdown",
   "id": "60471675-d547-4405-80ec-e6c0c71c9dce",
   "metadata": {},
   "source": [
    "#### Initializing variables with input values"
   ]
  },
  {
   "cell_type": "code",
   "execution_count": 16,
   "id": "d181ff4a-966a-4ed2-8920-8b8ce18cd5b9",
   "metadata": {},
   "outputs": [],
   "source": [
    "start = (6*60+52)*60\n",
    "easy = (8*60+15)*2\n",
    "fast = (7*60+12)*3"
   ]
  },
  {
   "cell_type": "markdown",
   "id": "8d40e591-700a-413b-b9e2-9df5366226dc",
   "metadata": {},
   "source": [
    "#### Processing"
   ]
  },
  {
   "cell_type": "code",
   "execution_count": 19,
   "id": "989effc9-ea9b-4bba-8eb8-4db779c4c3bc",
   "metadata": {},
   "outputs": [],
   "source": [
    "finish_hour = (start + easy + fast)/(60*60.0)\n",
    "finish_floored = (start + easy + fast)//(60*60)\n",
    "finish_minute  = (finish_hour - finish_floored)*60"
   ]
  },
  {
   "cell_type": "markdown",
   "id": "5fcacbef-7410-4684-bf1f-8992d969116c",
   "metadata": {},
   "source": [
    "#### Displaying results"
   ]
  },
  {
   "cell_type": "code",
   "execution_count": 22,
   "id": "43c6710d-86c1-4105-8e79-688b6e2f68b4",
   "metadata": {},
   "outputs": [
    {
     "name": "stdout",
     "output_type": "stream",
     "text": [
      "Finish time was 7:30\n"
     ]
    }
   ],
   "source": [
    "print ('Finish time was {:.0f}:{:.0f}'.format(finish_floored,finish_minute))"
   ]
  },
  {
   "cell_type": "code",
   "execution_count": 24,
   "id": "df4d35fc-2fc0-4cbd-a0f5-89dd80042cb1",
   "metadata": {},
   "outputs": [],
   "source": [
    "# Format with pring in Python\n",
    "# https://stackoverflow.com/questions/15286401/print-multiple-arguments-in-python\n",
    "# print(\"Total score for {} is {}\".format(name, score))\n",
    "# print(\"Total score for %s is %s  \" % (name, score))\n",
    "# print(\"Total score for\", name, \"is\", score)\n",
    "# print(\"Total score for \", name, \" is \", score, sep='')"
   ]
  }
 ],
 "metadata": {
  "kernelspec": {
   "display_name": "Python 3 (ipykernel)",
   "language": "python",
   "name": "python3"
  },
  "language_info": {
   "codemirror_mode": {
    "name": "ipython",
    "version": 3
   },
   "file_extension": ".py",
   "mimetype": "text/x-python",
   "name": "python",
   "nbconvert_exporter": "python",
   "pygments_lexer": "ipython3",
   "version": "3.12.4"
  }
 },
 "nbformat": 4,
 "nbformat_minor": 5
}
