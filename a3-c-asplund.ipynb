{
 "cells": [
  {
   "cell_type": "markdown",
   "metadata": {},
   "source": [
    "# Create your own program using functions like Part II (input, process, output)\n",
    "#### This is for a restaurant bill creation\n",
    "#### Take prices of two dishes using input() function - use it twice (also for the tax and tip rates)\n",
    "#### Should use functions for item totals, tax, tip, and print invoice."
   ]
  },
  {
   "cell_type": "code",
   "execution_count": 47,
   "metadata": {},
   "outputs": [],
   "source": [
    "# Calculates the total cost for the two dishes.\n",
    "def calc_total(first_item, second_item):\n",
    "    return first_item + second_item\n",
    "    "
   ]
  },
  {
   "cell_type": "code",
   "execution_count": 48,
   "metadata": {},
   "outputs": [],
   "source": [
    "# Calculates the sales tax for an item given a sales tax rate (expressed as a percentage)\n",
    "def calc_tax(item_cost, tax_rate):\n",
    "    frac_tax = tax_rate / 100\n",
    "    return (item_cost * frac_tax)\n"
   ]
  },
  {
   "cell_type": "code",
   "execution_count": 49,
   "metadata": {},
   "outputs": [],
   "source": [
    "# Calculates the tip for a total given a tip rate (expressed as a percentage)\n",
    "def calc_tip(total_cost, tip_rate):\n",
    "    frac_tip = tip_rate / 100\n",
    "    return (total_cost * frac_tip)\n"
   ]
  },
  {
   "cell_type": "code",
   "execution_count": 50,
   "metadata": {},
   "outputs": [],
   "source": [
    "# Prints an Invoice given the appropriate values\n",
    "def print_invoice(item1_cost, item2_cost, tax_rate, tip_rate):\n",
    "    print(\"Item #1 Cost: ${:.2f}\".format(item1_cost))\n",
    "    print(\"Item #2 Cost: ${:.2f}\".format(item2_cost))\n",
    "    print(\"-------------------------\")\n",
    "    \n",
    "    # Calculate and display total cost\n",
    "    subtotal = calc_total(item1_cost, item2_cost)\n",
    "    print(\"Subtotal: ${:.2f}\".format(subtotal))\n",
    "    \n",
    "    # Calculate and display tax\n",
    "    total_tax = calc_tax(subtotal, tax_rate)\n",
    "    print(\"Sales Tax: ${:.2f}\".format(total_tax))\n",
    "    \n",
    "    # Calculate and display tip\n",
    "    total_tip = calc_tip(subtotal, tip_rate)\n",
    "    print(\"Tip: ${:.2f}\".format(total_tip))\n",
    "\n",
    "    # Calculate and display TOTAL COST\n",
    "    total_cost = subtotal + total_tax + total_tip\n",
    "    print(\"Total Cost: ${:.2f}\".format(total_cost))\n"
   ]
  },
  {
   "cell_type": "code",
   "execution_count": 51,
   "metadata": {},
   "outputs": [
    {
     "name": "stdout",
     "output_type": "stream",
     "text": [
      "Item #1 Cost: $10.00\n",
      "Item #2 Cost: $10.00\n",
      "-------------------------\n",
      "Subtotal: $20.00\n",
      "Sales Tax: $2.10\n",
      "Tip: $4.00\n",
      "Total Cost: $26.10\n"
     ]
    }
   ],
   "source": [
    "# Input: get user inputs\n",
    "dish1_price = float(input(\"\\nEnter the price of the first dish:\\n\"))\n",
    "dish2_price = float(input(\"\\nEnter the price of the second dish:\\n\"))\n",
    "\n",
    "tax_rate = float(input(\"\\nEnter the tax rate (as a percentage, without the percent symbol):\\n\"))\n",
    "tip_rate = float(input(\"\\nEnter the tip rate (as a percentage, without the percent symbol):\\n\"))\n",
    "\n",
    "print_invoice(dish1_price, dish2_price, tax_rate, tip_rate)"
   ]
  }
 ],
 "metadata": {
  "kernelspec": {
   "display_name": "Python 3",
   "language": "python",
   "name": "python3"
  },
  "language_info": {
   "codemirror_mode": {
    "name": "ipython",
    "version": 3
   },
   "file_extension": ".py",
   "mimetype": "text/x-python",
   "name": "python",
   "nbconvert_exporter": "python",
   "pygments_lexer": "ipython3",
   "version": "3.12.3"
  }
 },
 "nbformat": 4,
 "nbformat_minor": 2
}
