{
 "cells": [
  {
   "cell_type": "markdown",
   "metadata": {},
   "source": [
    "# General Description\n",
    "#### You are making a cashier's register program. The most complete version is C while you starting from A, then add more features on B. Of course, your final version of cashier's register program is C.\n",
    "#### Enhance the program by updating more features below \n",
    "#### Use functions to organize your program:\n",
    "* Generate a receipt (print on screen) as close as real receipts in stores of WA (or samples below)\n",
    "* Include the current time when a receipt is generated\n",
    "* Format all currency values with two decimal places, starting with $ symbol\n"
   ]
  },
  {
   "cell_type": "code",
   "execution_count": 19,
   "metadata": {},
   "outputs": [],
   "source": [
    "import datetime\n",
    "\n",
    "# Constant for Seattle Tax Rate\n",
    "SEA_TAX_RATE = 0.1035\n",
    "\n",
    "# Constants for first (lower) discount rate\n",
    "DISCOUNT_LOW_RATE = .05\n",
    "DISCOUNT_LOW_LIMIT = 100\n",
    "\n",
    "# Constants for second (higher) discount rate\n",
    "DISCOUNT_HIGH_RATE = .10\n",
    "DISCOUNT_HIGH_LIMIT = 250"
   ]
  },
  {
   "cell_type": "code",
   "execution_count": 20,
   "metadata": {},
   "outputs": [],
   "source": [
    "# Calculates the total cost for the two items.\n",
    "def calc_total(first_item, second_item):\n",
    "    return first_item + second_item\n",
    "    "
   ]
  },
  {
   "cell_type": "code",
   "execution_count": 21,
   "metadata": {},
   "outputs": [],
   "source": [
    "# Calculates the sales tax for an item given a sales tax rate (expressed as a decimal)\n",
    "def calc_tax(item_cost, tax_rate):\n",
    "    frac_tax = tax_rate\n",
    "    return (item_cost * frac_tax)\n"
   ]
  },
  {
   "cell_type": "code",
   "execution_count": 22,
   "metadata": {},
   "outputs": [],
   "source": [
    "# Calculates the discount rate based on the pre-defined limits\n",
    "def calc_discount_rate(subtotal):\n",
    "    discount_rate = 0\n",
    "    \n",
    "    if (subtotal > DISCOUNT_HIGH_LIMIT):\n",
    "        discount_rate = DISCOUNT_HIGH_RATE\n",
    "    elif (subtotal > DISCOUNT_LOW_LIMIT):\n",
    "        discount_rate = DISCOUNT_LOW_RATE\n",
    "\n",
    "    return(discount_rate)\n"
   ]
  },
  {
   "cell_type": "code",
   "execution_count": 23,
   "metadata": {},
   "outputs": [],
   "source": [
    "# Calculates the total discount\n",
    "def calc_discount(subtotal, discount_rate):\n",
    "    discount = subtotal * discount_rate \n",
    "    return(discount)\n",
    "    "
   ]
  },
  {
   "cell_type": "code",
   "execution_count": 24,
   "metadata": {},
   "outputs": [],
   "source": [
    "# Print the Date and Time\n",
    "def print_datetime():\n",
    "    current_date = datetime.datetime.now()\n",
    "    print(f'{current_date.strftime(\"%x\"):29} {current_date.strftime(\"%X\")}')\n",
    "    "
   ]
  },
  {
   "cell_type": "code",
   "execution_count": 25,
   "metadata": {},
   "outputs": [],
   "source": [
    "# Print the Header for the Receipt\n",
    "def print_header():\n",
    "    print(\"    Seattle University Campus Store\")\n",
    "    print(\"       1125 12th Ave, Suite A\")\n",
    "    print(\"          Seattle, WA 98122\")\n",
    "    print(\"--------------------------------------\")\n",
    "    print_datetime()\n",
    "    print(\"--------------------------------------\\n\")\n",
    "    "
   ]
  },
  {
   "cell_type": "code",
   "execution_count": 26,
   "metadata": {},
   "outputs": [],
   "source": [
    "# Prints an Invoice given the appropriate values\n",
    "def print_receipt(item1_name, item1_cost, item2_name, item2_cost):\n",
    "\n",
    "    # Print Header\n",
    "    print_header()\n",
    "\n",
    "    # Calculate important values for the receipt\n",
    "    print(f'{item1_name:30} ${item1_cost:6.2f}')\n",
    "    print(f'{item2_name:30} ${item2_cost:6.2f}')\n",
    "    print(\"--------------------------------------\\n\")\n",
    "    \n",
    "    # Calculate and display total cost\n",
    "    subtotal = calc_total(item1_cost, item2_cost)\n",
    "    print(f'Subtotal:                     ${subtotal:7.2f}')\n",
    "    \n",
    "    # Calculate and display tax\n",
    "    total_tax = calc_tax(subtotal, SEA_TAX_RATE)\n",
    "    print(f'Sales Tax:                     ${total_tax:6.2f}')\n",
    "\n",
    "    # Check if a discount\n",
    "    discount_rate = calc_discount_rate(subtotal)\n",
    "    discount = calc_discount(subtotal, discount_rate)\n",
    "    if (discount > 0):\n",
    "        print(f'Discount Rate:                  {discount_rate:.2%}')\n",
    "        print(f'Discount:                      ${discount:6.2f}')\n",
    "\n",
    "\n",
    "    # Calculate and display TOTAL COST\n",
    "    total_cost = subtotal + total_tax - discount\n",
    "    print(f'Total Cost:                    ${total_cost:.2f}')\n",
    "\n",
    "    print(\"\\n    Thank you for shopping with us!\\n\")\n"
   ]
  },
  {
   "cell_type": "code",
   "execution_count": 27,
   "metadata": {},
   "outputs": [
    {
     "name": "stdout",
     "output_type": "stream",
     "text": [
      "    Seattle University Campus Store\n",
      "       1125 12th Ave, Suite A\n",
      "          Seattle, WA 98122\n",
      "--------------------------------------\n",
      "07/12/24                      22:02:49\n",
      "--------------------------------------\n",
      "\n",
      "Box of Pencils                 $  4.99\n",
      "Textbook                       $ 79.99\n",
      "--------------------------------------\n",
      "\n",
      "Subtotal:                     $  84.98\n",
      "Sales Tax:                     $  8.80\n",
      "Total Cost:                    $93.78\n",
      "\n",
      "    Thank you for shopping with us!\n",
      "\n"
     ]
    }
   ],
   "source": [
    "# Input: get user inputs\n",
    "item1_name = input(\"\\nEnter the name of the first item:\\n\")\n",
    "item1_price = float(input(\"\\nEnter the price of the \" + item1_name + \":\\n\"))\n",
    "item2_name = input(\"\\nEnter the name of the second item:\\n\")\n",
    "item2_price = float(input(\"\\nEnter the price of the \" + item2_name + \":\\n\"))\n",
    "\n",
    "print_receipt(item1_name, item1_price, item2_name, item2_price)\n",
    "\n",
    "\n",
    "\n",
    "\n"
   ]
  }
 ],
 "metadata": {
  "kernelspec": {
   "display_name": "Python 3",
   "language": "python",
   "name": "python3"
  },
  "language_info": {
   "codemirror_mode": {
    "name": "ipython",
    "version": 3
   },
   "file_extension": ".py",
   "mimetype": "text/x-python",
   "name": "python",
   "nbconvert_exporter": "python",
   "pygments_lexer": "ipython3",
   "version": "3.12.3"
  }
 },
 "nbformat": 4,
 "nbformat_minor": 2
}
