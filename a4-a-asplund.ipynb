{
 "cells": [
  {
   "cell_type": "markdown",
   "metadata": {},
   "source": [
    "# General Description\n",
    "#### You are making a cashier's register program. The most complete version is C while you starting from A, then add more features on B. Of course, your final version of cashier's register program is C.\n",
    "#### You are simulating a cashier register machine:\n",
    "* You should take 2 items,\n",
    "* calculate subtotal, apply WA tax,\n",
    "* apply 5% (or your choice, like 5%) discount if the subtotal value is exceeding a certain amount\n",
    "* apply 10% (or your choice, like 5%) discount if the subtotal value is exceeding a certain amount\n",
    "* then generate total bill amount\n"
   ]
  },
  {
   "cell_type": "code",
   "execution_count": 7,
   "metadata": {},
   "outputs": [],
   "source": [
    "# Constant for Seattle Tax Rate\n",
    "SEA_TAX_RATE = 0.1035\n",
    "\n",
    "# Constants for first (lower) discount rate\n",
    "DISCOUNT_LOW_RATE = .05\n",
    "DISCOUNT_LOW_LIMIT = 100\n",
    "\n",
    "# Constants for second (higher) discount rate\n",
    "DISCOUNT_HIGH_RATE = .10\n",
    "DISCOUNT_HIGH_LIMIT = 250"
   ]
  },
  {
   "cell_type": "code",
   "execution_count": 8,
   "metadata": {},
   "outputs": [],
   "source": [
    "# Calculates the total cost for the two items.\n",
    "def calc_total(first_item, second_item):\n",
    "    return first_item + second_item\n",
    "    "
   ]
  },
  {
   "cell_type": "code",
   "execution_count": 9,
   "metadata": {},
   "outputs": [],
   "source": [
    "# Calculates the sales tax for an item given a sales tax rate (expressed as a decimal)\n",
    "def calc_tax(item_cost, tax_rate):\n",
    "    frac_tax = tax_rate\n",
    "    return (item_cost * frac_tax)\n"
   ]
  },
  {
   "cell_type": "code",
   "execution_count": 10,
   "metadata": {},
   "outputs": [],
   "source": [
    "# Calculates the discount rate based on the pre-defined limits\n",
    "def calc_discount_rate(subtotal):\n",
    "    discount_rate = 0\n",
    "    \n",
    "    if (subtotal > DISCOUNT_HIGH_LIMIT):\n",
    "        discount_rate = DISCOUNT_HIGH_RATE\n",
    "    elif (subtotal > DISCOUNT_LOW_LIMIT):\n",
    "        discount_rate = DISCOUNT_LOW_RATE\n",
    "\n",
    "    return(discount_rate)\n"
   ]
  },
  {
   "cell_type": "code",
   "execution_count": 11,
   "metadata": {},
   "outputs": [],
   "source": [
    "# Calculates the total discount\n",
    "def calc_discount(subtotal, discount_rate):\n",
    "    discount = subtotal * discount_rate \n",
    "    return(discount)\n",
    "    "
   ]
  },
  {
   "cell_type": "code",
   "execution_count": 12,
   "metadata": {},
   "outputs": [
    {
     "name": "stdout",
     "output_type": "stream",
     "text": [
      "The subtotal is $264.98\n",
      "The tax is $27.43\n",
      "The discount rate is 10.00%\n",
      "The total discount is $26.50\n",
      "The final total is $265.91\n"
     ]
    }
   ],
   "source": [
    "# Input: get user inputs\n",
    "item1_name = input(\"\\nEnter the name of the first item:\\n\")\n",
    "item1_price = float(input(\"\\nEnter the price of the \" + item1_name + \":\\n\"))\n",
    "item2_name = input(\"\\nEnter the name of the second item:\\n\")\n",
    "item2_price = float(input(\"\\nEnter the price of the \" + item2_name + \":\\n\"))\n",
    "\n",
    "subtotal = calc_total(item1_price, item2_price)\n",
    "total_tax = calc_tax(subtotal, SEA_TAX_RATE)\n",
    "discount_rate = calc_discount_rate(subtotal)\n",
    "discount = calc_discount(subtotal, discount_rate)\n",
    "\n",
    "final_total = subtotal + total_tax - discount\n",
    "print(\"The subtotal is ${:.2f}\".format(subtotal))\n",
    "print(\"The tax is ${:.2f}\".format(total_tax))\n",
    "if (discount > 0):\n",
    "    print(\"The discount rate is {:.2%}\".format(discount_rate))\n",
    "    print(\"The total discount is ${:.2f}\".format(discount))\n",
    "print(\"The final total is ${:.2f}\".format(final_total))\n",
    "\n"
   ]
  }
 ],
 "metadata": {
  "kernelspec": {
   "display_name": "Python 3",
   "language": "python",
   "name": "python3"
  },
  "language_info": {
   "codemirror_mode": {
    "name": "ipython",
    "version": 3
   },
   "file_extension": ".py",
   "mimetype": "text/x-python",
   "name": "python",
   "nbconvert_exporter": "python",
   "pygments_lexer": "ipython3",
   "version": "3.12.3"
  }
 },
 "nbformat": 4,
 "nbformat_minor": 2
}
