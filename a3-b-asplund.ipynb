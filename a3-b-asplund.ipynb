{
 "cells": [
  {
   "cell_type": "markdown",
   "metadata": {},
   "source": [
    "# Part II Practice Your Own Functions\n",
    "### Exercise 3.1.\n",
    "#### Write a function named right_justify that takes a string named s as a parameter\n",
    "#### and prints the string with enough leading spaces so that the last letter of the\n",
    "#### string is in column 70 of the display.\n",
    "\n",
    "#### >>> right_justify('monty')\n",
    "\n",
    "####                                                                      monty\n",
    "\n",
    "#### Hint: Use string concatenation and repetition. Also, Python provides a built-in\n",
    "#### function called len that returns the length of a string, so the value of len('monty')\n",
    "#### is 5."
   ]
  },
  {
   "cell_type": "code",
   "execution_count": 4,
   "metadata": {},
   "outputs": [
    {
     "name": "stdout",
     "output_type": "stream",
     "text": [
      "                                                                 Monty\n"
     ]
    }
   ],
   "source": [
    "# Write a function below, right_justify\n",
    "def right_justify(s):\n",
    "    num_of_spaces = 70 - len(s)\n",
    "    result = num_of_spaces * \" \" + s\n",
    "    return result\n",
    "\n",
    "print (right_justify('Monty'))"
   ]
  },
  {
   "cell_type": "code",
   "execution_count": 5,
   "metadata": {},
   "outputs": [
    {
     "name": "stdout",
     "output_type": "stream",
     "text": [
      "                                                                  Test\n"
     ]
    }
   ],
   "source": [
    "# using a input function\n",
    "print (right_justify(input('\\nEnter a name to be displayed?\\n')))"
   ]
  },
  {
   "cell_type": "code",
   "execution_count": 6,
   "metadata": {},
   "outputs": [
    {
     "name": "stdout",
     "output_type": "stream",
     "text": [
      "Good morning, Monty.\n",
      "Good evening, Ms. Smith.\n"
     ]
    }
   ],
   "source": [
    "# Write a function below, greetings_time\n",
    "def greetings_time(time, name):\n",
    "    print(\"Good \" + time + \", \" + name +\".\")\n",
    "\n",
    "greetings_time(\"morning\", \"Monty\")\n",
    "greetings_time(\"evening\", \"Ms. Smith\")"
   ]
  },
  {
   "cell_type": "markdown",
   "metadata": {},
   "source": [
    "#### Review: Exercise 2.2-2 Suppose the cover price of a book is $24.95, but bookstores get a 40% discount. Shipping costs $3 for the first copy and 75 cents for each additional copy. What is the total wholesale cost for 60 copies?"
   ]
  },
  {
   "cell_type": "code",
   "execution_count": 1,
   "metadata": {},
   "outputs": [
    {
     "name": "stdout",
     "output_type": "stream",
     "text": [
      "Sub total: $898.20\n",
      "Shipping cost: $47.25\n",
      "Total cost: $945.45\n"
     ]
    }
   ],
   "source": [
    "# input\n",
    "num_books = 60\n",
    "b_price = 24.95\n",
    "discount = 0.4\n",
    "shipping_1st = 3\n",
    "shipping_rest = 0.75\n",
    "\n",
    "# process\n",
    "subtotal_books = b_price * num_books * (1 - discount)\n",
    "shipping_cost = shipping_1st + (num_books - 1) * shipping_rest\n",
    "totoal_cost = subtotal_books + shipping_cost\n",
    "\n",
    "# output\n",
    "print ('Sub total: ${:,.2f}'.format(subtotal_books))\n",
    "print ('Shipping cost: ${:,.2f}'.format(shipping_cost))\n",
    "print ('Total cost: ${:,.2f}'.format(totoal_cost))\n"
   ]
  },
  {
   "cell_type": "markdown",
   "metadata": {},
   "source": [
    "### Ex 2.2-2 in Functions\n",
    "#### Create functions for subtotal, shipping costs calculation with parpameters, and format printing"
   ]
  },
  {
   "cell_type": "code",
   "execution_count": null,
   "metadata": {},
   "outputs": [],
   "source": [
    "# A function produces subtotal with unit price, unit quantity, and discount rate in float\n",
    "def get_subtotal (unit_price, unit_quantity, discount):\n",
    "    return unit_price * unit_quantity * (1-discount)\n"
   ]
  },
  {
   "cell_type": "code",
   "execution_count": null,
   "metadata": {},
   "outputs": [],
   "source": [
    "# Get shipping cost.\n",
    "# First book cost fixed, rest items with lower rates.\n",
    "def get_shippingcost (quantity, first_rate, rest_rate):\n",
    "    return first_rate + (quantity - 1) * rest_rate\n"
   ]
  },
  {
   "cell_type": "code",
   "execution_count": null,
   "metadata": {},
   "outputs": [],
   "source": [
    "# Currency formating with a label.\n",
    "def get_price_w_label(item_label, price):\n",
    "    return '{}: ${:,.2f}'.format(item_label, price)\n"
   ]
  },
  {
   "cell_type": "code",
   "execution_count": null,
   "metadata": {},
   "outputs": [],
   "source": [
    "# input\n",
    "num_books = 60\n",
    "b_price = 24.95\n",
    "discount = 0.4\n",
    "shipping_1st = 3\n",
    "shipping_rest = 0.75\n",
    "\n",
    "# process\n",
    "subtotal_books = get_subtotal (b_price, num_books, discount)\n",
    "shipping_cost = get_shippingcost (num_books, shipping_1st, shipping_rest)\n",
    "totoal_cost = subtotal_books + shipping_cost\n",
    "\n",
    "# output\n",
    "print (get_price_w_label('Sub total', subtotal_books))\n",
    "print (get_price_w_label('Shipping cost', shipping_cost))\n",
    "print (get_price_w_label('Total cost', totoal_cost))"
   ]
  },
  {
   "cell_type": "markdown",
   "metadata": {},
   "source": [
    "### Getting a input from a user"
   ]
  },
  {
   "cell_type": "code",
   "execution_count": null,
   "metadata": {},
   "outputs": [],
   "source": [
    "dish1_price = float(input(\"\\nEnter the price of the first dish?\\n\"))\n",
    "dish2_price = float(input(\"\\nEnter the price of the second dish?\\n\"))"
   ]
  },
  {
   "cell_type": "code",
   "execution_count": null,
   "metadata": {},
   "outputs": [],
   "source": [
    "total_dish = dish1_price + dish1_price\n",
    "print (get_price_w_label('Total cost', total_dish))"
   ]
  }
 ],
 "metadata": {
  "kernelspec": {
   "display_name": "Python 3",
   "language": "python",
   "name": "python3"
  },
  "language_info": {
   "codemirror_mode": {
    "name": "ipython",
    "version": 3
   },
   "file_extension": ".py",
   "mimetype": "text/x-python",
   "name": "python",
   "nbconvert_exporter": "python",
   "pygments_lexer": "ipython3",
   "version": "3.12.3"
  }
 },
 "nbformat": 4,
 "nbformat_minor": 2
}
