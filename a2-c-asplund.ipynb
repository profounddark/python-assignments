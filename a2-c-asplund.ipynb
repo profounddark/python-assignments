{
 "cells": [
  {
   "cell_type": "markdown",
   "id": "7bce1420-10a9-446c-b1df-0933a49bdffd",
   "metadata": {},
   "source": [
    "## Exercise 2.2new\n",
    "### 1. The volume of a cylinder can be calculated by multiplying the height (h) by the radius (r) squared by π. What is the volume of a cylinder with radius 3 and height 10?"
   ]
  },
  {
   "cell_type": "code",
   "execution_count": 39,
   "id": "8ee8fd7c-5dd7-411c-a7bb-cd8d40da34d5",
   "metadata": {},
   "outputs": [
    {
     "name": "stdout",
     "output_type": "stream",
     "text": [
      "282.7433388230814\n"
     ]
    }
   ],
   "source": [
    "pi = 3.1415926535897932\n",
    "r = 3.0\n",
    "height = 10\n",
    "volume = height * pi * r**2\n",
    "print (volume)"
   ]
  },
  {
   "cell_type": "markdown",
   "id": "9cb28c8e",
   "metadata": {},
   "source": [
    "2. A local market charges $1.00 per tomato. The sales tax is 10%. It costs an additional $0.50 (no tax) for a bag and a bag holds six tomatoes. How much does it cost to buy 31 tomatoes?"
   ]
  },
  {
   "cell_type": "markdown",
   "id": "1140c113-e2d7-4587-8202-c90521f4aaff",
   "metadata": {},
   "source": [
    "#### Initializing variables with input values"
   ]
  },
  {
   "cell_type": "code",
   "execution_count": 40,
   "id": "05ef16fe-0e58-4f4b-a5ca-346504019ba6",
   "metadata": {},
   "outputs": [],
   "source": [
    "num_tomatoes = 31\n",
    "sales_tax_rate = 0.10\n",
    "tomato_cost = 1.00\n",
    "per_bag_cost = 0.05\n",
    "bag_size = 6\n",
    "b_price = 24.95\n",
    "discount = 0.4\n",
    "shipping_1st = 3\n",
    "\n",
    "bag_limit = 6"
   ]
  },
  {
   "cell_type": "markdown",
   "id": "5acdd48a-0976-41dc-b56d-d53ab873eb4a",
   "metadata": {},
   "source": [
    "#### Calculating costs"
   ]
  },
  {
   "cell_type": "code",
   "execution_count": 41,
   "id": "39beead2-9a90-4743-8f7b-c940ec456a07",
   "metadata": {},
   "outputs": [],
   "source": [
    "tomato_cost = num_tomatoes * tomato_cost\n",
    "tax = tomato_cost * sales_tax_rate\n",
    "num_bags = (num_tomatoes // bag_size) + 1\n",
    "bag_cost = num_bags * per_bag_cost\n",
    "total_cost = tomato_cost + tax + bag_cost"
   ]
  },
  {
   "cell_type": "markdown",
   "id": "192dbabf-1e73-47e0-a246-0be2c737ab25",
   "metadata": {},
   "source": [
    "#### Displaying results"
   ]
  },
  {
   "cell_type": "code",
   "execution_count": 42,
   "id": "a42df289-bc06-43ed-9fe7-00ee60b096b5",
   "metadata": {},
   "outputs": [
    {
     "name": "stdout",
     "output_type": "stream",
     "text": [
      "Tomato cost: $31.00\n",
      "Sales Tax: $3.10\n",
      "Cost of bags: $0.30\n",
      "Total cost: $34.40\n"
     ]
    }
   ],
   "source": [
    "print ('Tomato cost: ${:,.2f}'.format(tomato_cost))\n",
    "print ('Sales Tax: ${:,.2f}'.format(tax))\n",
    "print('Cost of bags: ${:,.2f}'.format(bag_cost))\n",
    "print ('Total cost: ${:,.2f}'.format(total_cost))"
   ]
  },
  {
   "cell_type": "markdown",
   "id": "e4359885-0bdb-4b12-b370-3230cb272420",
   "metadata": {},
   "source": [
    "3. A train leaving New York City travels to Washington D.C. It travels 171 miles to Baltimore, Maryland at an average speed of 100 miles per hour. From Baltimore, Maryland to Washington, D. C., a trip of 36 miles, it moves at an average of 60 miles per hour. How long does it takes for the train to get from NYC to DC?"
   ]
  },
  {
   "cell_type": "markdown",
   "id": "56bb0654",
   "metadata": {},
   "source": [
    "### 3. If I leave my house at 6:52 am and run 1 mile at an easy pace (8:15 per mile), then 3 miles at tempo (7:12 per mile) and 1 mile at easy pace again, what time do I get home for breakfast?"
   ]
  },
  {
   "cell_type": "markdown",
   "id": "60471675-d547-4405-80ec-e6c0c71c9dce",
   "metadata": {},
   "source": [
    "#### Initializing variables with input values"
   ]
  },
  {
   "cell_type": "code",
   "execution_count": 43,
   "id": "d181ff4a-966a-4ed2-8920-8b8ce18cd5b9",
   "metadata": {},
   "outputs": [],
   "source": [
    "first_leg = 171\n",
    "second_leg = 36\n",
    "first_speed = 100\n",
    "second_speed = 60"
   ]
  },
  {
   "cell_type": "markdown",
   "id": "8d40e591-700a-413b-b9e2-9df5366226dc",
   "metadata": {},
   "source": [
    "#### Processing"
   ]
  },
  {
   "cell_type": "code",
   "execution_count": 44,
   "id": "989effc9-ea9b-4bba-8eb8-4db779c4c3bc",
   "metadata": {},
   "outputs": [],
   "source": [
    "first_time = first_leg / first_speed\n",
    "second_time = second_leg / second_speed\n",
    "total_time = first_time + second_time"
   ]
  },
  {
   "cell_type": "markdown",
   "id": "5fcacbef-7410-4684-bf1f-8992d969116c",
   "metadata": {},
   "source": [
    "#### Displaying results"
   ]
  },
  {
   "cell_type": "code",
   "execution_count": 45,
   "id": "43c6710d-86c1-4105-8e79-688b6e2f68b4",
   "metadata": {},
   "outputs": [
    {
     "name": "stdout",
     "output_type": "stream",
     "text": [
      "Total trip time was 2.31 hours\n"
     ]
    }
   ],
   "source": [
    "print ('Total trip time was {:.2f} hours'.format(total_time))"
   ]
  }
 ],
 "metadata": {
  "kernelspec": {
   "display_name": "Python 3 (ipykernel)",
   "language": "python",
   "name": "python3"
  },
  "language_info": {
   "codemirror_mode": {
    "name": "ipython",
    "version": 3
   },
   "file_extension": ".py",
   "mimetype": "text/x-python",
   "name": "python",
   "nbconvert_exporter": "python",
   "pygments_lexer": "ipython3",
   "version": "3.12.3"
  }
 },
 "nbformat": 4,
 "nbformat_minor": 5
}
