{
 "cells": [
  {
   "cell_type": "markdown",
   "metadata": {},
   "source": [
    "## Part III. Ordering System\n",
    "source: https://codereview.stackexchange.com/questions/176377/mcdonalds-food-order-system"
   ]
  },
  {
   "cell_type": "markdown",
   "metadata": {},
   "source": [
    "### Make a copy of previous Jupyter Notebook Document (a6-a-lastname) and rename it: a6-b-lastname\n",
    "+ Must include Self Evaluation markdown and write up your responses\n",
    "+ Use the previous project, a6-a, to add more features\n",
    "+ Use a list to take order item key with quantity.\n",
    "+ Sample List format for order taken: Menu displays 1 - 3, while list index ranges from 0 to 2.\n",
    "    [[0,2], [2,1]] meaning item Big Mac (id 0) has quantity 2 and item Vegetarian Burger (id 2) has quantity 1 ordered. You will create an empty list before a loop starts, then add a nested list each time an order entered with id and quantity by appending your list. Looping the order list is shown below sample code.\n"
   ]
  },
  {
   "cell_type": "markdown",
   "metadata": {},
   "source": [
    "### Self Evaluation: (You MUST include 'Self Evaluation markdown in a6-a, a6-b, and a6-c)\n",
    "##### Does project a6-a work fully, partialy, or not at all?\n",
    "The program works as requested: it stores every order made in a list (based on item # and quantity ordered).\n",
    "##### Discuss what you have achieved\n",
    "* Created a list to store each order placed along with quantity ordered.\n",
    "* Modified the `processOrder` method to add the order data to the new list\n",
    "* Created a new method to print the menu\n",
    "* Imported a method to print text in support of the new menu\n"
   ]
  },
  {
   "cell_type": "code",
   "execution_count": 6,
   "metadata": {},
   "outputs": [
    {
     "name": "stdout",
     "output_type": "stream",
     "text": [
      "Welcome to McDonald's Restaurant!\n",
      "[1] Big Mac                                           $50.00\n",
      "[2] Large Fries                                      $200.00\n",
      "[3] Vegetarian Burger                                 $20.00\n",
      "Thank you for ordering!\n",
      "Your total cost is: $12.5\n"
     ]
    }
   ],
   "source": [
    "### PROGRAM CONSTANTS ###\n",
    "\n",
    "# Width of \"viewport\" for printing output, used in centering methods\n",
    "MAX_LINE_WIDTH = 60\n",
    "\n",
    "### PROGRAM FUNCTIONS ###\n",
    "\n",
    "def printSplitLine(left_str, right_str):\n",
    "    \"\"\"Prints two strings, one left justified and one right justified, on the\n",
    "    same line.\n",
    "\n",
    "    Args:\n",
    "        left_str (string): string to be left justified\n",
    "        right_str (string): string to be right justified\n",
    "    \"\"\"\n",
    "    white_length = MAX_LINE_WIDTH - (len(left_str) + len(right_str))\n",
    "    white_space = \" \" * white_length\n",
    "    print(left_str + white_space + right_str)\n",
    "\n",
    "\n",
    "\n",
    "def printMenu(menu):\n",
    "    \"\"\"Prints the menu for the restaurant.\n",
    "\n",
    "    Args:\n",
    "        menu (tuple): tuple of lists containing menu items. menu item\n",
    "        consists of [item name, price, quantity]\n",
    "    \"\"\"\n",
    "    print(\"Welcome to McDonald's Restaurant!\")\n",
    "    for item in range(len(menu)):\n",
    "        printSplitLine(f'[{item+1}] ' + menu[item][0], f' ${menu[item][1]:.2f}')\n",
    "\n",
    "\n",
    "def processOrder(item_id, quantity, item_list):\n",
    "    global total\n",
    "    global items_ordered\n",
    "    if quantity > item_list[2]:\n",
    "        print(\"There is not enough stock!\")\n",
    "    else:\n",
    "        items_ordered.append([item_id, quantity])\n",
    "        total += item_list[1] * quantity\n",
    "        item_list[2] -= quantity\n",
    "\n",
    "\n",
    "total = 0\n",
    "items_ordered = []\n",
    "A = [\"Big Mac\", float(2.50), 50], [\"Large Fries\", float(0.50), 200], [\"Vegetarian Burger\", float(1.00), 20]\n",
    "\n",
    "printMenu(A)\n",
    "\n",
    "more_items = \"yes\"\n",
    "\n",
    "while (more_items == \"yes\"):\n",
    "    choice, quantity = int(input(\"\\nWhat would you like?\\n\")), int(input(\"\\nHow many would you like?\\n\"))\n",
    "    if (1 <= choice <= 3):\n",
    "        processOrder(choice-1, quantity, A[choice-1])\n",
    "    else:\n",
    "        print(\"Invalid Item\")\n",
    "\n",
    "    more_items = (input(\"Do you want to order more items?\")).lower()\n",
    "\n",
    "print(\"Thank you for ordering!\\nYour total cost is: $\" +  str(total))"
   ]
  },
  {
   "cell_type": "code",
   "execution_count": null,
   "metadata": {},
   "outputs": [],
   "source": []
  }
 ],
 "metadata": {
  "kernelspec": {
   "display_name": "Python 3",
   "language": "python",
   "name": "python3"
  },
  "language_info": {
   "codemirror_mode": {
    "name": "ipython",
    "version": 3
   },
   "file_extension": ".py",
   "mimetype": "text/x-python",
   "name": "python",
   "nbconvert_exporter": "python",
   "pygments_lexer": "ipython3",
   "version": "3.12.3"
  }
 },
 "nbformat": 4,
 "nbformat_minor": 4
}
