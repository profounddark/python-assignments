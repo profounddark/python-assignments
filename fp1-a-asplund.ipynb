{
 "cells": [
  {
   "cell_type": "code",
   "execution_count": 2,
   "metadata": {},
   "outputs": [
    {
     "name": "stdout",
     "output_type": "stream",
     "text": [
      "USD = CAD 1.2480163599\n",
      "USD = HKD 7.7540286299\n",
      "USD = ISK 125.3987730061\n",
      "USD = PHP 48.6642126789\n",
      "USD = DKK 6.0828629857\n",
      "USD = HUF 294.6257668712\n",
      "USD = CZK 21.3578732106\n",
      "USD = GBP 0.7068139059\n",
      "USD = RON 3.9875664622\n",
      "USD = SEK 8.234601227\n",
      "USD = IDR 14193.9468302658\n",
      "USD = INR 72.6331288344\n",
      "USD = BRL 5.453006135\n",
      "USD = RUB 73.9074846626\n",
      "USD = HRK 6.2081799591\n",
      "USD = JPY 106.118609407\n",
      "USD = THB 30.1496932515\n",
      "USD = CHF 0.9060122699\n",
      "USD = EUR 0.81799591\n",
      "USD = MYR 4.0395092025\n",
      "USD = BGN 1.5998364008\n",
      "USD = TRY 7.2265030675\n",
      "USD = CNY 6.4538241309\n",
      "USD = NOK 8.3660531697\n",
      "USD = NZD 1.3422494888\n",
      "USD = ZAR 14.8139877301\n",
      "USD = USD 1\n",
      "USD = MXN 20.7299795501\n",
      "USD = SGD 1.318609407\n",
      "USD = AUD 1.2529243354\n",
      "USD = ILS 3.2790184049\n",
      "USD = KRW 1111.7709611452\n",
      "USD = PLN 3.6909611452\n"
     ]
    }
   ],
   "source": [
    "# fp1-a-lastname\n",
    "# import requests\n",
    "# import json\n",
    " \n",
    "# url = \"https://api.exchangeratesapi.io/latest?base=USD\"\n",
    " \n",
    "# response = requests.get(url)\n",
    "# data = response.text\n",
    "# parsed = json.loads(data)\n",
    "# date = parsed[\"date\"]\n",
    "# print(\"Date:\", date, \"\\n\")\n",
    " \n",
    "# rates = parsed[\"rates\"]\n",
    "# Currency rate of 2021-02-25\n",
    "\n",
    "rates = {'CAD': 1.2480163599, 'HKD': 7.7540286299, 'ISK': 125.3987730061, \\\n",
    "         'PHP': 48.6642126789, 'DKK': 6.0828629857, 'HUF': 294.6257668712, \\\n",
    "         'CZK': 21.3578732106, 'GBP': 0.7068139059, 'RON': 3.9875664622, \\\n",
    "         'SEK': 8.234601227, 'IDR': 14193.9468302658, 'INR': 72.6331288344, \\\n",
    "         'BRL': 5.453006135, 'RUB': 73.9074846626, 'HRK': 6.2081799591, \\\n",
    "         'JPY': 106.118609407, 'THB': 30.1496932515, 'CHF': 0.9060122699, \\\n",
    "         'EUR': 0.81799591, 'MYR': 4.0395092025, 'BGN': 1.5998364008, \\\n",
    "         'TRY': 7.2265030675, 'CNY': 6.4538241309, 'NOK': 8.3660531697, \\\n",
    "         'NZD': 1.3422494888, 'ZAR': 14.8139877301, 'USD': 1.0, \\\n",
    "         'MXN': 20.7299795501, 'SGD': 1.318609407, 'AUD': 1.2529243354, \\\n",
    "         'ILS': 3.2790184049, 'KRW': 1111.7709611452, 'PLN': 3.6909611452, \\\n",
    "         'USD': 1}\n",
    " \n",
    "for currency, rate in rates.items():\n",
    "    print(\"USD =\",currency, rate)"
   ]
  }
 ],
 "metadata": {
  "kernelspec": {
   "display_name": "Python 3",
   "language": "python",
   "name": "python3"
  },
  "language_info": {
   "codemirror_mode": {
    "name": "ipython",
    "version": 3
   },
   "file_extension": ".py",
   "mimetype": "text/x-python",
   "name": "python",
   "nbconvert_exporter": "python",
   "pygments_lexer": "ipython3",
   "version": "3.11.4"
  }
 },
 "nbformat": 4,
 "nbformat_minor": 2
}
