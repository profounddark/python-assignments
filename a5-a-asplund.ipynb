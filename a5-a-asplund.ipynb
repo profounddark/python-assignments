{
 "cells": [
  {
   "cell_type": "markdown",
   "metadata": {},
   "source": [
    "# Week 5 Assignment - Part A\n",
    "Create a Jupyter Notebook Document: `a5-a-lastname`\n",
    "* Include the current time at the beginning\n",
    "* Use input method to get inputs from a user\n",
    "* Score entering should continue until the user enters: done (a user can enter any combination of upper or lower cases of a word, dOnE)"
   ]
  },
  {
   "cell_type": "code",
   "execution_count": 3,
   "metadata": {},
   "outputs": [
    {
     "name": "stdout",
     "output_type": "stream",
     "text": [
      "                      Seattle University Gradebook Program\n",
      "                                Fri 19 Jul 2024\n",
      "--------------------------------------------------------------------------------\n",
      "15\n",
      "20\n",
      "25\n",
      "35\n"
     ]
    }
   ],
   "source": [
    "import datetime\n",
    "\n",
    "### PROGRAM CONSTANTS ###\n",
    "\n",
    "# Width of \"viewport\" for printing output, used in centering methods\n",
    "MAX_LINE_WIDTH = 80\n",
    "\n",
    "### PRROGRAM FUNCTIONS ###\n",
    "\n",
    "def print_centered(text_string):\n",
    "    \"\"\"Centers text using screen width of program constant MAX_LINE_WIDTH\n",
    "\n",
    "    Args:\n",
    "        text_string (string): string of text to be centered\n",
    "    \"\"\"\n",
    "    # Figure out how much white space on the each side of string\n",
    "    half_length = (MAX_LINE_WIDTH - len(text_string)) // 2\n",
    "    print((\" \" * half_length) + text_string)\n",
    "\n",
    "def print_separator():\n",
    "    \"\"\"Prints a separator line of width equal to program constant MAX_LINE_WIDTH.\n",
    "    \"\"\"\n",
    "    print(\"-\" * MAX_LINE_WIDTH)\n",
    "\n",
    "def print_datetime():\n",
    "    \"\"\"Prints the current Date, centered in viewport.\n",
    "    \"\"\"\n",
    "    now_date = datetime.datetime.now()\n",
    "    current_date = now_date.strftime('%a %d %b %Y')\n",
    "    print_centered(current_date)\n",
    "\n",
    "def print_header():\n",
    "    \"\"\"Prints the header for the program output.\n",
    "    \"\"\"\n",
    "    print_centered(\"Seattle University Gradebook Program\")\n",
    "    print_datetime()\n",
    "    print_separator()\n",
    "\n",
    "''' MAIN PROGRAM BODY '''\n",
    "\n",
    "# define and initialize counter and total variables\n",
    "student_count = 0\n",
    "score_total = 0\n",
    "\n",
    "# boolean variable for tracking program operation\n",
    "in_progress = True\n",
    "\n",
    "# Print the program output header\n",
    "print_header()\n",
    "\n",
    "while in_progress:\n",
    "\n",
    "    data_input = input(\"Please enter a new test score\")\n",
    "\n",
    "    # if input indicates user is done\n",
    "    if (data_input.lower() == \"done\"):\n",
    "        in_progress = False\n",
    "    # otherwise print inputted data for user to see\n",
    "    else:\n",
    "        print(data_input)\n"
   ]
  }
 ],
 "metadata": {
  "kernelspec": {
   "display_name": "Python 3",
   "language": "python",
   "name": "python3"
  },
  "language_info": {
   "codemirror_mode": {
    "name": "ipython",
    "version": 3
   },
   "file_extension": ".py",
   "mimetype": "text/x-python",
   "name": "python",
   "nbconvert_exporter": "python",
   "pygments_lexer": "ipython3",
   "version": "3.12.3"
  }
 },
 "nbformat": 4,
 "nbformat_minor": 2
}
