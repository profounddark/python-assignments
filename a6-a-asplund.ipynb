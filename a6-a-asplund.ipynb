{
 "cells": [
  {
   "cell_type": "markdown",
   "metadata": {},
   "source": [
    "## Part II. Ordering System\n",
    "source: https://codereview.stackexchange.com/questions/176377/mcdonalds-food-order-system"
   ]
  },
  {
   "cell_type": "markdown",
   "metadata": {},
   "source": [
    "### Rename the downloaded new notebook as: a6-a-lastname\n",
    "Streamline the ordering system and debug all errors\n",
    "+ Display the correct Menu\n",
    "+ You should use a number to select a menu item\n",
    "+ You should use a number to enter a quantity of the item"
   ]
  },
  {
   "cell_type": "markdown",
   "metadata": {},
   "source": [
    "### Self Evaluation: (You MUST include 'Self Evaluation markdown in a6-a, a6-b, and a6-c)\n",
    "##### Does project a6-a work fully, partialy, or not at all?\n",
    "This project functions within the parameters specified above. It takes queries the user for an item number, checks if there are sufficient numbers of that item available, and updates the total expense.\n",
    "##### Discuss what you have achieved\n",
    "* Updated the menu to list item numbers (1-3) for each menu item.\n",
    "* Updated the menu to properly display all items in the menu.\n",
    "* Corrected the menu input processing to recognize menu item numbers instead of item names.\n",
    "* Changed the condition of the main loop and had it check the input received from the user, simplifying the code and making it more readable."
   ]
  },
  {
   "cell_type": "code",
   "execution_count": 9,
   "metadata": {},
   "outputs": [
    {
     "name": "stdout",
     "output_type": "stream",
     "text": [
      "Welcome to McDonald's\n",
      "[1] ['Big Mac', 2.5] \n",
      "[2] ['Large Fries', 0.5] \n",
      "[3] ['Vegetarian Burger', 1.0]\n",
      "Thank you for ordering!\n",
      "Your total cost is: $3.5\n"
     ]
    }
   ],
   "source": [
    "############################################\n",
    "# Streamline the code below\n",
    "############################################\n",
    "\n",
    "def processOrder(quantity, item_list):\n",
    "    global total\n",
    "    if quantity > item_list[2]:\n",
    "        print(\"There is not enough stock!\")\n",
    "        pass\n",
    "    else:\n",
    "        total += item_list[1] * quantity\n",
    "        item_list[2] -= quantity\n",
    "\n",
    "total = 0\n",
    "A = [\"Big Mac\", float(2.50), 50], [\"Large Fries\", float(0.50), 200], [\"Vegetarian Burger\", float(1.00), 20]\n",
    "\n",
    "print(\"Welcome to McDonald's\")\n",
    "print(\"[1]\", A[0][0:2],\n",
    "      \"\\n[2]\", A[1][0:2],\n",
    "      \"\\n[3]\", A[2][0:2])\n",
    "\n",
    "more_items = \"yes\"\n",
    "\n",
    "while (more_items == \"yes\"):\n",
    "    choice, quantity = int(input(\"\\nWhat would you like?\\n\")), int(input(\"\\nHow many would you like?\\n\"))\n",
    "    if (1 <= choice <= 3):\n",
    "        processOrder(quantity, A[choice-1])\n",
    "    else:\n",
    "        print(\"Invalid Item\")\n",
    "\n",
    "    more_items = (input(\"Do you want to order more items?\")).lower()\n",
    "\n",
    "print(\"Thank you for ordering!\\nYour total cost is: $\" +  str(total))"
   ]
  },
  {
   "cell_type": "code",
   "execution_count": null,
   "metadata": {},
   "outputs": [],
   "source": []
  }
 ],
 "metadata": {
  "kernelspec": {
   "display_name": "Python 3",
   "language": "python",
   "name": "python3"
  },
  "language_info": {
   "codemirror_mode": {
    "name": "ipython",
    "version": 3
   },
   "file_extension": ".py",
   "mimetype": "text/x-python",
   "name": "python",
   "nbconvert_exporter": "python",
   "pygments_lexer": "ipython3",
   "version": "3.12.3"
  }
 },
 "nbformat": 4,
 "nbformat_minor": 4
}
